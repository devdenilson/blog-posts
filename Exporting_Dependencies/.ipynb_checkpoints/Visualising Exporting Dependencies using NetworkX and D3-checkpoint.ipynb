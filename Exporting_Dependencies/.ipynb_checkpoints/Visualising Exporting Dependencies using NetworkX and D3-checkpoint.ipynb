{
 "cells": [
  {
   "cell_type": "markdown",
   "metadata": {},
   "source": [
    "### Webscraping\n",
    "------------------------"
   ]
  },
  {
   "cell_type": "code",
   "execution_count": 61,
   "metadata": {},
   "outputs": [],
   "source": [
    "import requests\n",
    "from bs4 import BeautifulSoup\n",
    "import json\n",
    "\n",
    "result = requests.get('https://github.com/factbook/factbook.json')\n",
    "\n",
    "content = result.content\n",
    "\n",
    "bsoup = BeautifulSoup(content, 'html5lib')\n",
    "\n",
    "tds = bsoup.find_all('td', class_='content')\n",
    "\n",
    "continents = []\n",
    "for td in tds[1:14]:\n",
    "    continents.append(td.text.split('\\n')[1].split(' ')[-1])\n",
    "\n",
    "code_to_continent = {}\n",
    "\n",
    "for continent in continents: \n",
    "    url = 'https://github.com/factbook/factbook.json/tree/master/{c}'.format(c=continent)\n",
    "    countries_page = requests.get(url)\n",
    "    content = countries_page.content\n",
    "    bsoup = BeautifulSoup(content, 'html5lib')\n",
    "    tds = bsoup.find_all('td', class_='content')\n",
    "    for td in tds[1:]:\n",
    "        code_to_continent[td.text.split('\\n')[1].split(' ')[-1].split('.')[0]] = continent"
   ]
  },
  {
   "cell_type": "code",
   "execution_count": 100,
   "metadata": {},
   "outputs": [],
   "source": [
    "class Country:\n",
    "    def __init__(self, name, code):\n",
    "        self.name = name.lower()\n",
    "        self.code = code\n",
    "        self.exporting_partners = {}\n",
    "    def add_partner(self, p, v):\n",
    "        self.exporting_partners[p] = v"
   ]
  },
  {
   "cell_type": "code",
   "execution_count": 108,
   "metadata": {
    "scrolled": true
   },
   "outputs": [
    {
     "name": "stdout",
     "output_type": "stream",
     "text": [
      "ag\n",
      "https://raw.githubusercontent.com/factbook/factbook.json/master/africa/ag.json\n",
      "['Spain 18.8%', ' France 11.2%', ' US 8.8%', ' Italy 8.7%', ' UK 7.1%', ' Brazil 5.2%', ' Tunisia 4.9%', ' Germany 4.5% (2015)']\n",
      "['Spain 18.8%', ' France 11.2%', ' US 8.8%', ' Italy 8.7%', ' UK 7.1%', ' Brazil 5.2%', ' Tunisia 4.9%', ' Germany 4.5% (2015)']\n",
      "['Spain 18.8%', ' France 11.2%', ' US 8.8%', ' Italy 8.7%', ' UK 7.1%', ' Brazil 5.2%', ' Tunisia 4.9%', ' Germany 4.5% (2015)']\n",
      "['Spain 18.8%', ' France 11.2%', ' US 8.8%', ' Italy 8.7%', ' UK 7.1%', ' Brazil 5.2%', ' Tunisia 4.9%', ' Germany 4.5% (2015)']\n",
      "['Spain 18.8%', ' France 11.2%', ' US 8.8%', ' Italy 8.7%', ' UK 7.1%', ' Brazil 5.2%', ' Tunisia 4.9%', ' Germany 4.5% (2015)']\n",
      "['Spain 18.8%', ' France 11.2%', ' US 8.8%', ' Italy 8.7%', ' UK 7.1%', ' Brazil 5.2%', ' Tunisia 4.9%', ' Germany 4.5% (2015)']\n",
      "['Spain 18.8%', ' France 11.2%', ' US 8.8%', ' Italy 8.7%', ' UK 7.1%', ' Brazil 5.2%', ' Tunisia 4.9%', ' Germany 4.5% (2015)']\n",
      "['Spain 18.8%', ' France 11.2%', ' US 8.8%', ' Italy 8.7%', ' UK 7.1%', ' Brazil 5.2%', ' Tunisia 4.9%', ' Germany 4.5% (2015)']\n",
      "['Spain 18.8%', ' France 11.2%', ' US 8.8%', ' Italy 8.7%', ' UK 7.1%', ' Brazil 5.2%', ' Tunisia 4.9%', ' Germany 4.5% (2015)']\n"
     ]
    },
    {
     "ename": "ValueError",
     "evalue": "could not convert string to float: '(2015)'",
     "output_type": "error",
     "traceback": [
      "\u001b[0;31m---------------------------------------------------------------------------\u001b[0m",
      "\u001b[0;31mValueError\u001b[0m                                Traceback (most recent call last)",
      "\u001b[0;32m<ipython-input-108-6fa690328b64>\u001b[0m in \u001b[0;36m<module>\u001b[0;34m()\u001b[0m\n\u001b[1;32m     18\u001b[0m                     \u001b[0mprint\u001b[0m\u001b[0;34m(\u001b[0m\u001b[0mpartners\u001b[0m\u001b[0;34m)\u001b[0m\u001b[0;34m\u001b[0m\u001b[0m\n\u001b[1;32m     19\u001b[0m                     \u001b[0mp\u001b[0m \u001b[0;34m=\u001b[0m \u001b[0mpartner\u001b[0m\u001b[0;34m.\u001b[0m\u001b[0msplit\u001b[0m\u001b[0;34m(\u001b[0m\u001b[0;34m)\u001b[0m\u001b[0;34m\u001b[0m\u001b[0m\n\u001b[0;32m---> 20\u001b[0;31m                     \u001b[0mcountry\u001b[0m\u001b[0;34m.\u001b[0m\u001b[0madd_partner\u001b[0m\u001b[0;34m(\u001b[0m\u001b[0;34m' '\u001b[0m\u001b[0;34m.\u001b[0m\u001b[0mjoin\u001b[0m\u001b[0;34m(\u001b[0m\u001b[0mp\u001b[0m\u001b[0;34m[\u001b[0m\u001b[0;36m0\u001b[0m\u001b[0;34m:\u001b[0m\u001b[0;34m-\u001b[0m\u001b[0;36m2\u001b[0m\u001b[0;34m]\u001b[0m\u001b[0;34m)\u001b[0m\u001b[0;34m,\u001b[0m \u001b[0mfloat\u001b[0m\u001b[0;34m(\u001b[0m\u001b[0mp\u001b[0m\u001b[0;34m[\u001b[0m\u001b[0;34m-\u001b[0m\u001b[0;36m1\u001b[0m\u001b[0;34m]\u001b[0m\u001b[0;34m.\u001b[0m\u001b[0msplit\u001b[0m\u001b[0;34m(\u001b[0m\u001b[0;34m'%'\u001b[0m\u001b[0;34m)\u001b[0m\u001b[0;34m[\u001b[0m\u001b[0;36m0\u001b[0m\u001b[0;34m]\u001b[0m\u001b[0;34m)\u001b[0m\u001b[0;34m)\u001b[0m\u001b[0;34m\u001b[0m\u001b[0m\n\u001b[0m\u001b[1;32m     21\u001b[0m                 \u001b[0mcountries\u001b[0m\u001b[0;34m[\u001b[0m\u001b[0mcode\u001b[0m\u001b[0;34m]\u001b[0m \u001b[0;34m=\u001b[0m \u001b[0mcountry\u001b[0m\u001b[0;34m\u001b[0m\u001b[0m\n",
      "\u001b[0;31mValueError\u001b[0m: could not convert string to float: '(2015)'"
     ]
    }
   ],
   "source": [
    "idx = 0\n",
    "\n",
    "countries = {}\n",
    "\n",
    "for code in code_to_continent:\n",
    "    print(code)\n",
    "    url = 'https://raw.githubusercontent.com/factbook/factbook.json/master/{continent}/{code}.json'.format(continent=code_to_continent[code], code=code)\n",
    "    print(url)\n",
    "    json = requests.get(url).json()\n",
    "    if 'Country name' in json['Government']:\n",
    "        if 'conventional short form' in json['Government']['Country name']:\n",
    "            name = json['Government']['Country name']['conventional short form']['text']\n",
    "            if 'Exports - partners' in json['Economy']:\n",
    "                partners = json['Economy']['Exports - partners']['text'].split(',')\n",
    "                print(partners)\n",
    "                country = Country(name, code)\n",
    "                for partner in partners:\n",
    "                    print(partners)\n",
    "                    p = partner.split()\n",
    "                    if p[-1][0] == '(':\n",
    "                        country.add_partner(' '.join(p[0:-3]), float(p[-2].split('%')[0]))\n",
    "                    else:\n",
    "                        country.add_partner(' '.join(p[0:-2]), float(p[-1].split('%')[0]))\n",
    "                countries[code] = country"
   ]
  },
  {
   "cell_type": "code",
   "execution_count": 96,
   "metadata": {},
   "outputs": [
    {
     "data": {
      "text/plain": [
       "{'Brazil': 5.2,\n",
       " 'France': 11.2,\n",
       " 'Germany': 4.5,\n",
       " 'Italy': 8.7,\n",
       " 'Spain': 18.8,\n",
       " 'Tunisia': 4.9,\n",
       " 'UK': 7.1,\n",
       " 'US': 8.8}"
      ]
     },
     "execution_count": 96,
     "metadata": {},
     "output_type": "execute_result"
    }
   ],
   "source": [
    "countries['uk'].exporting_partners"
   ]
  },
  {
   "cell_type": "code",
   "execution_count": 12,
   "metadata": {},
   "outputs": [
    {
     "ename": "ValueError",
     "evalue": "DataFrame constructor not properly called!",
     "output_type": "error",
     "traceback": [
      "\u001b[0;31m---------------------------------------------------------------------------\u001b[0m",
      "\u001b[0;31mValueError\u001b[0m                                Traceback (most recent call last)",
      "\u001b[0;32m<ipython-input-12-412d91d21485>\u001b[0m in \u001b[0;36m<module>\u001b[0;34m()\u001b[0m\n\u001b[1;32m      2\u001b[0m \u001b[0;32mimport\u001b[0m \u001b[0mnetworkx\u001b[0m \u001b[0;32mas\u001b[0m \u001b[0mnx\u001b[0m\u001b[0;34m\u001b[0m\u001b[0m\n\u001b[1;32m      3\u001b[0m \u001b[0;34m\u001b[0m\u001b[0m\n\u001b[0;32m----> 4\u001b[0;31m \u001b[0mpd\u001b[0m\u001b[0;34m.\u001b[0m\u001b[0mDataFrame\u001b[0m\u001b[0;34m(\u001b[0m\u001b[0mcountry_code_to_contient\u001b[0m\u001b[0;34m.\u001b[0m\u001b[0mkeys\u001b[0m\u001b[0;34m(\u001b[0m\u001b[0;34m)\u001b[0m\u001b[0;34m)\u001b[0m\u001b[0;34m\u001b[0m\u001b[0m\n\u001b[0m",
      "\u001b[0;32m/Library/Frameworks/Python.framework/Versions/3.6/lib/python3.6/site-packages/pandas/core/frame.py\u001b[0m in \u001b[0;36m__init__\u001b[0;34m(self, data, index, columns, dtype, copy)\u001b[0m\n\u001b[1;32m    402\u001b[0m                                          dtype=values.dtype, copy=False)\n\u001b[1;32m    403\u001b[0m             \u001b[0;32melse\u001b[0m\u001b[0;34m:\u001b[0m\u001b[0;34m\u001b[0m\u001b[0m\n\u001b[0;32m--> 404\u001b[0;31m                 \u001b[0;32mraise\u001b[0m \u001b[0mValueError\u001b[0m\u001b[0;34m(\u001b[0m\u001b[0;34m'DataFrame constructor not properly called!'\u001b[0m\u001b[0;34m)\u001b[0m\u001b[0;34m\u001b[0m\u001b[0m\n\u001b[0m\u001b[1;32m    405\u001b[0m \u001b[0;34m\u001b[0m\u001b[0m\n\u001b[1;32m    406\u001b[0m         \u001b[0mNDFrame\u001b[0m\u001b[0;34m.\u001b[0m\u001b[0m__init__\u001b[0m\u001b[0;34m(\u001b[0m\u001b[0mself\u001b[0m\u001b[0;34m,\u001b[0m \u001b[0mmgr\u001b[0m\u001b[0;34m,\u001b[0m \u001b[0mfastpath\u001b[0m\u001b[0;34m=\u001b[0m\u001b[0;32mTrue\u001b[0m\u001b[0;34m)\u001b[0m\u001b[0;34m\u001b[0m\u001b[0m\n",
      "\u001b[0;31mValueError\u001b[0m: DataFrame constructor not properly called!"
     ]
    }
   ],
   "source": [
    "import pandas as pd\n",
    "import networkx as nx\n",
    "\n"
   ]
  },
  {
   "cell_type": "code",
   "execution_count": null,
   "metadata": {},
   "outputs": [],
   "source": []
  }
 ],
 "metadata": {
  "kernelspec": {
   "display_name": "Python 3",
   "language": "python",
   "name": "python3"
  },
  "language_info": {
   "codemirror_mode": {
    "name": "ipython",
    "version": 3
   },
   "file_extension": ".py",
   "mimetype": "text/x-python",
   "name": "python",
   "nbconvert_exporter": "python",
   "pygments_lexer": "ipython3",
   "version": "3.6.3"
  }
 },
 "nbformat": 4,
 "nbformat_minor": 2
}
